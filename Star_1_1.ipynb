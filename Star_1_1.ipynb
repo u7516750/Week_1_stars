{
  "nbformat": 4,
  "nbformat_minor": 0,
  "metadata": {
    "colab": {
      "provenance": [],
      "toc_visible": true
    },
    "kernelspec": {
      "name": "python3",
      "display_name": "Python 3"
    },
    "language_info": {
      "name": "python"
    }
  },
  "cells": [
    {
      "cell_type": "code",
      "execution_count": 1,
      "metadata": {
        "id": "Ab5mLuVSoLLo"
      },
      "outputs": [],
      "source": [
        "import astropy"
      ]
    },
    {
      "cell_type": "markdown",
      "source": [
        "# New Section"
      ],
      "metadata": {
        "id": "R7kT01pvCMqX"
      }
    },
    {
      "cell_type": "code",
      "source": [
        "import pandas as pd"
      ],
      "metadata": {
        "id": "yq6dIdiYoRdz"
      },
      "execution_count": 2,
      "outputs": []
    },
    {
      "cell_type": "markdown",
      "source": [
        "Coping the figure_1 in dataframe"
      ],
      "metadata": {
        "id": "gFNuZbfMoVnD"
      }
    },
    {
      "cell_type": "code",
      "source": [
        "p= pd.DataFrame({\"Type in V \":[\"O5\", \"BO\", \"B2\", \"B8\", \"A5\", \"F5\", \"G2\", \"K2\", \"MO\", \"M5\"],\"eff Temp\": [42000, 30000, 20900, 11400, 8180, 6650, 5790, 4830, 3840, 3170 ], \"log(L/L_sun)\": [5.94, 4.78, 2.39, 2.34, 1.14, 0.54, -0.10, -0.5, -1.06, -1.94 ], \"M_bol\":[-10.1, -7.2, -4.8, -1.1, 1.8, 3.4, 4.5, 6, 7.4, 9.6], \"M_v\": [-5.7, -4, -2.45, -0.25, 1.95, 3.5, 4.7, 6.4, 8.8, 12.3 ], \"U-B\":[-1.19, -1.08, -0.84, -0.34, 0.10, -0.02, 0.12, 0.64, 1.22, 1.24],\"B-V\": [-0.33,-0.30, -0.24, -0.11, 0.15, 0.44, 0.63, 0.91, 1.40, 1.64]})\n",
        "p"
      ],
      "metadata": {
        "colab": {
          "base_uri": "https://localhost:8080/",
          "height": 359
        },
        "id": "lnmwksYRoTNO",
        "outputId": "08320f84-e6d7-498b-e602-d0c8a5029e4a"
      },
      "execution_count": 3,
      "outputs": [
        {
          "output_type": "execute_result",
          "data": {
            "text/plain": [
              "  Type in V   eff Temp  log(L/L_sun)  M_bol    M_v   U-B   B-V\n",
              "0         O5     42000          5.94  -10.1  -5.70 -1.19 -0.33\n",
              "1         BO     30000          4.78   -7.2  -4.00 -1.08 -0.30\n",
              "2         B2     20900          2.39   -4.8  -2.45 -0.84 -0.24\n",
              "3         B8     11400          2.34   -1.1  -0.25 -0.34 -0.11\n",
              "4         A5      8180          1.14    1.8   1.95  0.10  0.15\n",
              "5         F5      6650          0.54    3.4   3.50 -0.02  0.44\n",
              "6         G2      5790         -0.10    4.5   4.70  0.12  0.63\n",
              "7         K2      4830         -0.50    6.0   6.40  0.64  0.91\n",
              "8         MO      3840         -1.06    7.4   8.80  1.22  1.40\n",
              "9         M5      3170         -1.94    9.6  12.30  1.24  1.64"
            ],
            "text/html": [
              "\n",
              "  <div id=\"df-243d36d4-a3ba-4e35-ad4d-16e885bf592c\">\n",
              "    <div class=\"colab-df-container\">\n",
              "      <div>\n",
              "<style scoped>\n",
              "    .dataframe tbody tr th:only-of-type {\n",
              "        vertical-align: middle;\n",
              "    }\n",
              "\n",
              "    .dataframe tbody tr th {\n",
              "        vertical-align: top;\n",
              "    }\n",
              "\n",
              "    .dataframe thead th {\n",
              "        text-align: right;\n",
              "    }\n",
              "</style>\n",
              "<table border=\"1\" class=\"dataframe\">\n",
              "  <thead>\n",
              "    <tr style=\"text-align: right;\">\n",
              "      <th></th>\n",
              "      <th>Type in V</th>\n",
              "      <th>eff Temp</th>\n",
              "      <th>log(L/L_sun)</th>\n",
              "      <th>M_bol</th>\n",
              "      <th>M_v</th>\n",
              "      <th>U-B</th>\n",
              "      <th>B-V</th>\n",
              "    </tr>\n",
              "  </thead>\n",
              "  <tbody>\n",
              "    <tr>\n",
              "      <th>0</th>\n",
              "      <td>O5</td>\n",
              "      <td>42000</td>\n",
              "      <td>5.94</td>\n",
              "      <td>-10.1</td>\n",
              "      <td>-5.70</td>\n",
              "      <td>-1.19</td>\n",
              "      <td>-0.33</td>\n",
              "    </tr>\n",
              "    <tr>\n",
              "      <th>1</th>\n",
              "      <td>BO</td>\n",
              "      <td>30000</td>\n",
              "      <td>4.78</td>\n",
              "      <td>-7.2</td>\n",
              "      <td>-4.00</td>\n",
              "      <td>-1.08</td>\n",
              "      <td>-0.30</td>\n",
              "    </tr>\n",
              "    <tr>\n",
              "      <th>2</th>\n",
              "      <td>B2</td>\n",
              "      <td>20900</td>\n",
              "      <td>2.39</td>\n",
              "      <td>-4.8</td>\n",
              "      <td>-2.45</td>\n",
              "      <td>-0.84</td>\n",
              "      <td>-0.24</td>\n",
              "    </tr>\n",
              "    <tr>\n",
              "      <th>3</th>\n",
              "      <td>B8</td>\n",
              "      <td>11400</td>\n",
              "      <td>2.34</td>\n",
              "      <td>-1.1</td>\n",
              "      <td>-0.25</td>\n",
              "      <td>-0.34</td>\n",
              "      <td>-0.11</td>\n",
              "    </tr>\n",
              "    <tr>\n",
              "      <th>4</th>\n",
              "      <td>A5</td>\n",
              "      <td>8180</td>\n",
              "      <td>1.14</td>\n",
              "      <td>1.8</td>\n",
              "      <td>1.95</td>\n",
              "      <td>0.10</td>\n",
              "      <td>0.15</td>\n",
              "    </tr>\n",
              "    <tr>\n",
              "      <th>5</th>\n",
              "      <td>F5</td>\n",
              "      <td>6650</td>\n",
              "      <td>0.54</td>\n",
              "      <td>3.4</td>\n",
              "      <td>3.50</td>\n",
              "      <td>-0.02</td>\n",
              "      <td>0.44</td>\n",
              "    </tr>\n",
              "    <tr>\n",
              "      <th>6</th>\n",
              "      <td>G2</td>\n",
              "      <td>5790</td>\n",
              "      <td>-0.10</td>\n",
              "      <td>4.5</td>\n",
              "      <td>4.70</td>\n",
              "      <td>0.12</td>\n",
              "      <td>0.63</td>\n",
              "    </tr>\n",
              "    <tr>\n",
              "      <th>7</th>\n",
              "      <td>K2</td>\n",
              "      <td>4830</td>\n",
              "      <td>-0.50</td>\n",
              "      <td>6.0</td>\n",
              "      <td>6.40</td>\n",
              "      <td>0.64</td>\n",
              "      <td>0.91</td>\n",
              "    </tr>\n",
              "    <tr>\n",
              "      <th>8</th>\n",
              "      <td>MO</td>\n",
              "      <td>3840</td>\n",
              "      <td>-1.06</td>\n",
              "      <td>7.4</td>\n",
              "      <td>8.80</td>\n",
              "      <td>1.22</td>\n",
              "      <td>1.40</td>\n",
              "    </tr>\n",
              "    <tr>\n",
              "      <th>9</th>\n",
              "      <td>M5</td>\n",
              "      <td>3170</td>\n",
              "      <td>-1.94</td>\n",
              "      <td>9.6</td>\n",
              "      <td>12.30</td>\n",
              "      <td>1.24</td>\n",
              "      <td>1.64</td>\n",
              "    </tr>\n",
              "  </tbody>\n",
              "</table>\n",
              "</div>\n",
              "      <button class=\"colab-df-convert\" onclick=\"convertToInteractive('df-243d36d4-a3ba-4e35-ad4d-16e885bf592c')\"\n",
              "              title=\"Convert this dataframe to an interactive table.\"\n",
              "              style=\"display:none;\">\n",
              "        \n",
              "  <svg xmlns=\"http://www.w3.org/2000/svg\" height=\"24px\"viewBox=\"0 0 24 24\"\n",
              "       width=\"24px\">\n",
              "    <path d=\"M0 0h24v24H0V0z\" fill=\"none\"/>\n",
              "    <path d=\"M18.56 5.44l.94 2.06.94-2.06 2.06-.94-2.06-.94-.94-2.06-.94 2.06-2.06.94zm-11 1L8.5 8.5l.94-2.06 2.06-.94-2.06-.94L8.5 2.5l-.94 2.06-2.06.94zm10 10l.94 2.06.94-2.06 2.06-.94-2.06-.94-.94-2.06-.94 2.06-2.06.94z\"/><path d=\"M17.41 7.96l-1.37-1.37c-.4-.4-.92-.59-1.43-.59-.52 0-1.04.2-1.43.59L10.3 9.45l-7.72 7.72c-.78.78-.78 2.05 0 2.83L4 21.41c.39.39.9.59 1.41.59.51 0 1.02-.2 1.41-.59l7.78-7.78 2.81-2.81c.8-.78.8-2.07 0-2.86zM5.41 20L4 18.59l7.72-7.72 1.47 1.35L5.41 20z\"/>\n",
              "  </svg>\n",
              "      </button>\n",
              "      \n",
              "  <style>\n",
              "    .colab-df-container {\n",
              "      display:flex;\n",
              "      flex-wrap:wrap;\n",
              "      gap: 12px;\n",
              "    }\n",
              "\n",
              "    .colab-df-convert {\n",
              "      background-color: #E8F0FE;\n",
              "      border: none;\n",
              "      border-radius: 50%;\n",
              "      cursor: pointer;\n",
              "      display: none;\n",
              "      fill: #1967D2;\n",
              "      height: 32px;\n",
              "      padding: 0 0 0 0;\n",
              "      width: 32px;\n",
              "    }\n",
              "\n",
              "    .colab-df-convert:hover {\n",
              "      background-color: #E2EBFA;\n",
              "      box-shadow: 0px 1px 2px rgba(60, 64, 67, 0.3), 0px 1px 3px 1px rgba(60, 64, 67, 0.15);\n",
              "      fill: #174EA6;\n",
              "    }\n",
              "\n",
              "    [theme=dark] .colab-df-convert {\n",
              "      background-color: #3B4455;\n",
              "      fill: #D2E3FC;\n",
              "    }\n",
              "\n",
              "    [theme=dark] .colab-df-convert:hover {\n",
              "      background-color: #434B5C;\n",
              "      box-shadow: 0px 1px 3px 1px rgba(0, 0, 0, 0.15);\n",
              "      filter: drop-shadow(0px 1px 2px rgba(0, 0, 0, 0.3));\n",
              "      fill: #FFFFFF;\n",
              "    }\n",
              "  </style>\n",
              "\n",
              "      <script>\n",
              "        const buttonEl =\n",
              "          document.querySelector('#df-243d36d4-a3ba-4e35-ad4d-16e885bf592c button.colab-df-convert');\n",
              "        buttonEl.style.display =\n",
              "          google.colab.kernel.accessAllowed ? 'block' : 'none';\n",
              "\n",
              "        async function convertToInteractive(key) {\n",
              "          const element = document.querySelector('#df-243d36d4-a3ba-4e35-ad4d-16e885bf592c');\n",
              "          const dataTable =\n",
              "            await google.colab.kernel.invokeFunction('convertToInteractive',\n",
              "                                                     [key], {});\n",
              "          if (!dataTable) return;\n",
              "\n",
              "          const docLinkHtml = 'Like what you see? Visit the ' +\n",
              "            '<a target=\"_blank\" href=https://colab.research.google.com/notebooks/data_table.ipynb>data table notebook</a>'\n",
              "            + ' to learn more about interactive tables.';\n",
              "          element.innerHTML = '';\n",
              "          dataTable['output_type'] = 'display_data';\n",
              "          await google.colab.output.renderOutput(dataTable, element);\n",
              "          const docLink = document.createElement('div');\n",
              "          docLink.innerHTML = docLinkHtml;\n",
              "          element.appendChild(docLink);\n",
              "        }\n",
              "      </script>\n",
              "    </div>\n",
              "  </div>\n",
              "  "
            ]
          },
          "metadata": {},
          "execution_count": 3
        }
      ]
    },
    {
      "cell_type": "markdown",
      "source": [
        "Checking the linearity of plot using seaborn librabry"
      ],
      "metadata": {
        "id": "B5vLI7QKxvu_"
      }
    },
    {
      "cell_type": "code",
      "source": [
        "import seaborn as sns\n",
        "sns.set_theme(style=\"ticks\")\n",
        "sns.pairplot(data = p)"
      ],
      "metadata": {
        "colab": {
          "base_uri": "https://localhost:8080/",
          "height": 1000
        },
        "id": "sJ9ckajnpGxH",
        "outputId": "134379ad-f010-4895-9c62-b10d1e404f2a"
      },
      "execution_count": 4,
      "outputs": [
        {
          "output_type": "execute_result",
          "data": {
            "text/plain": [
              "<seaborn.axisgrid.PairGrid at 0x7f26232cadc0>"
            ]
          },
          "metadata": {},
          "execution_count": 4
        },
        {
          "output_type": "display_data",
          "data": {
            "text/plain": [
              "<Figure size 1080x1080 with 42 Axes>"
            ],
            "image/png": "[encoded data removed]"
          },
          "metadata": {}
        }
      ]
    },
    {
      "cell_type": "markdown",
      "source": [
        "Interpolating the required values"
      ],
      "metadata": {
        "id": "utAGSheFyN3G"
      }
    },
    {
      "cell_type": "code",
      "source": [
        "g= pd.DataFrame({\"Type in V \":[\"O5\", \"BO\", \"B2\", \"B8\", \"A5\", \"A7\", \"F5\", \"G2\",\"KO\", \"K1\", \"K2\", \"K3\", \"K4\", \"K5\", \"K6\", \"K7\", \"k8\" \"MO\", \"M5\"],\"eff Temp\": [42000, 30000, 20900, 11400, 8180,None,6650, 5790,None, None, 4830, None,None,None,None,None,3840, 3170 ], \"log(L/L_sun)\": [5.94, 4.78, 2.39, 2.34, 1.14, None, 0.54, -0.10,None, None, -0.5,None,None,None,None,None, -1.06, -1.94 ], \"M_bol\":[-10.1, -7.2, -4.8, -1.1, 1.8, None, 3.4, 4.5,None, None, 6, None, None, None,None,None, 7.4, 9.6], \"M_v\": [-5.7, -4, -2.45, -0.25, 1.95,None, 3.5, 4.7,None, None, 6.4,None,None,None,None,None, 8.8, 12.3 ], \"U-B\":[-1.19, -1.08, -0.84, -0.34, 0.10, None, -0.02, 0.12,None, None, 0.64,None,None,None,None,None, 1.22, 1.24],\"B-V\": [-0.33,-0.30, -0.24, -0.11, 0.15, None, 0.44, 0.63,None, None, 0.91,None,None,None,None,None, 1.40, 1.64]})\n",
        "g"
      ],
      "metadata": {
        "colab": {
          "base_uri": "https://localhost:8080/",
          "height": 607
        },
        "id": "bEc2ZKkCt7gx",
        "outputId": "79bc86a6-08f3-43ab-aa80-809c4a511dc9"
      },
      "execution_count": 5,
      "outputs": [
        {
          "output_type": "execute_result",
          "data": {
            "text/plain": [
              "   Type in V   eff Temp  log(L/L_sun)  M_bol    M_v   U-B   B-V\n",
              "0          O5   42000.0          5.94  -10.1  -5.70 -1.19 -0.33\n",
              "1          BO   30000.0          4.78   -7.2  -4.00 -1.08 -0.30\n",
              "2          B2   20900.0          2.39   -4.8  -2.45 -0.84 -0.24\n",
              "3          B8   11400.0          2.34   -1.1  -0.25 -0.34 -0.11\n",
              "4          A5    8180.0          1.14    1.8   1.95  0.10  0.15\n",
              "5          A7       NaN           NaN    NaN    NaN   NaN   NaN\n",
              "6          F5    6650.0          0.54    3.4   3.50 -0.02  0.44\n",
              "7          G2    5790.0         -0.10    4.5   4.70  0.12  0.63\n",
              "8          KO       NaN           NaN    NaN    NaN   NaN   NaN\n",
              "9          K1       NaN           NaN    NaN    NaN   NaN   NaN\n",
              "10         K2    4830.0         -0.50    6.0   6.40  0.64  0.91\n",
              "11         K3       NaN           NaN    NaN    NaN   NaN   NaN\n",
              "12         K4       NaN           NaN    NaN    NaN   NaN   NaN\n",
              "13         K5       NaN           NaN    NaN    NaN   NaN   NaN\n",
              "14         K6       NaN           NaN    NaN    NaN   NaN   NaN\n",
              "15         K7       NaN           NaN    NaN    NaN   NaN   NaN\n",
              "16       k8MO    3840.0         -1.06    7.4   8.80  1.22  1.40\n",
              "17         M5    3170.0         -1.94    9.6  12.30  1.24  1.64"
            ],
            "text/html": [
              "\n",
              "  <div id=\"df-c05c68b3-f5fb-45bb-88c1-39ddc66efddc\">\n",
              "    <div class=\"colab-df-container\">\n",
              "      <div>\n",
              "<style scoped>\n",
              "    .dataframe tbody tr th:only-of-type {\n",
              "        vertical-align: middle;\n",
              "    }\n",
              "\n",
              "    .dataframe tbody tr th {\n",
              "        vertical-align: top;\n",
              "    }\n",
              "\n",
              "    .dataframe thead th {\n",
              "        text-align: right;\n",
              "    }\n",
              "</style>\n",
              "<table border=\"1\" class=\"dataframe\">\n",
              "  <thead>\n",
              "    <tr style=\"text-align: right;\">\n",
              "      <th></th>\n",
              "      <th>Type in V</th>\n",
              "      <th>eff Temp</th>\n",
              "      <th>log(L/L_sun)</th>\n",
              "      <th>M_bol</th>\n",
              "      <th>M_v</th>\n",
              "      <th>U-B</th>\n",
              "      <th>B-V</th>\n",
              "    </tr>\n",
              "  </thead>\n",
              "  <tbody>\n",
              "    <tr>\n",
              "      <th>0</th>\n",
              "      <td>O5</td>\n",
              "      <td>42000.0</td>\n",
              "      <td>5.94</td>\n",
              "      <td>-10.1</td>\n",
              "      <td>-5.70</td>\n",
              "      <td>-1.19</td>\n",
              "      <td>-0.33</td>\n",
              "    </tr>\n",
              "    <tr>\n",
              "      <th>1</th>\n",
              "      <td>BO</td>\n",
              "      <td>30000.0</td>\n",
              "      <td>4.78</td>\n",
              "      <td>-7.2</td>\n",
              "      <td>-4.00</td>\n",
              "      <td>-1.08</td>\n",
              "      <td>-0.30</td>\n",
              "    </tr>\n",
              "    <tr>\n",
              "      <th>2</th>\n",
              "      <td>B2</td>\n",
              "      <td>20900.0</td>\n",
              "      <td>2.39</td>\n",
              "      <td>-4.8</td>\n",
              "      <td>-2.45</td>\n",
              "      <td>-0.84</td>\n",
              "      <td>-0.24</td>\n",
              "    </tr>\n",
              "    <tr>\n",
              "      <th>3</th>\n",
              "      <td>B8</td>\n",
              "      <td>11400.0</td>\n",
              "      <td>2.34</td>\n",
              "      <td>-1.1</td>\n",
              "      <td>-0.25</td>\n",
              "      <td>-0.34</td>\n",
              "      <td>-0.11</td>\n",
              "    </tr>\n",
              "    <tr>\n",
              "      <th>4</th>\n",
              "      <td>A5</td>\n",
              "      <td>8180.0</td>\n",
              "      <td>1.14</td>\n",
              "      <td>1.8</td>\n",
              "      <td>1.95</td>\n",
              "      <td>0.10</td>\n",
              "      <td>0.15</td>\n",
              "    </tr>\n",
              "    <tr>\n",
              "      <th>5</th>\n",
              "      <td>A7</td>\n",
              "      <td>NaN</td>\n",
              "      <td>NaN</td>\n",
              "      <td>NaN</td>\n",
              "      <td>NaN</td>\n",
              "      <td>NaN</td>\n",
              "      <td>NaN</td>\n",
              "    </tr>\n",
              "    <tr>\n",
              "      <th>6</th>\n",
              "      <td>F5</td>\n",
              "      <td>6650.0</td>\n",
              "      <td>0.54</td>\n",
              "      <td>3.4</td>\n",
              "      <td>3.50</td>\n",
              "      <td>-0.02</td>\n",
              "      <td>0.44</td>\n",
              "    </tr>\n",
              "    <tr>\n",
              "      <th>7</th>\n",
              "      <td>G2</td>\n",
              "      <td>5790.0</td>\n",
              "      <td>-0.10</td>\n",
              "      <td>4.5</td>\n",
              "      <td>4.70</td>\n",
              "      <td>0.12</td>\n",
              "      <td>0.63</td>\n",
              "    </tr>\n",
              "    <tr>\n",
              "      <th>8</th>\n",
              "      <td>KO</td>\n",
              "      <td>NaN</td>\n",
              "      <td>NaN</td>\n",
              "      <td>NaN</td>\n",
              "      <td>NaN</td>\n",
              "      <td>NaN</td>\n",
              "      <td>NaN</td>\n",
              "    </tr>\n",
              "    <tr>\n",
              "      <th>9</th>\n",
              "      <td>K1</td>\n",
              "      <td>NaN</td>\n",
              "      <td>NaN</td>\n",
              "      <td>NaN</td>\n",
              "      <td>NaN</td>\n",
              "      <td>NaN</td>\n",
              "      <td>NaN</td>\n",
              "    </tr>\n",
              "    <tr>\n",
              "      <th>10</th>\n",
              "      <td>K2</td>\n",
              "      <td>4830.0</td>\n",
              "      <td>-0.50</td>\n",
              "      <td>6.0</td>\n",
              "      <td>6.40</td>\n",
              "      <td>0.64</td>\n",
              "      <td>0.91</td>\n",
              "    </tr>\n",
              "    <tr>\n",
              "      <th>11</th>\n",
              "      <td>K3</td>\n",
              "      <td>NaN</td>\n",
              "      <td>NaN</td>\n",
              "      <td>NaN</td>\n",
              "      <td>NaN</td>\n",
              "      <td>NaN</td>\n",
              "      <td>NaN</td>\n",
              "    </tr>\n",
              "    <tr>\n",
              "      <th>12</th>\n",
              "      <td>K4</td>\n",
              "      <td>NaN</td>\n",
              "      <td>NaN</td>\n",
              "      <td>NaN</td>\n",
              "      <td>NaN</td>\n",
              "      <td>NaN</td>\n",
              "      <td>NaN</td>\n",
              "    </tr>\n",
              "    <tr>\n",
              "      <th>13</th>\n",
              "      <td>K5</td>\n",
              "      <td>NaN</td>\n",
              "      <td>NaN</td>\n",
              "      <td>NaN</td>\n",
              "      <td>NaN</td>\n",
              "      <td>NaN</td>\n",
              "      <td>NaN</td>\n",
              "    </tr>\n",
              "    <tr>\n",
              "      <th>14</th>\n",
              "      <td>K6</td>\n",
              "      <td>NaN</td>\n",
              "      <td>NaN</td>\n",
              "      <td>NaN</td>\n",
              "      <td>NaN</td>\n",
              "      <td>NaN</td>\n",
              "      <td>NaN</td>\n",
              "    </tr>\n",
              "    <tr>\n",
              "      <th>15</th>\n",
              "      <td>K7</td>\n",
              "      <td>NaN</td>\n",
              "      <td>NaN</td>\n",
              "      <td>NaN</td>\n",
              "      <td>NaN</td>\n",
              "      <td>NaN</td>\n",
              "      <td>NaN</td>\n",
              "    </tr>\n",
              "    <tr>\n",
              "      <th>16</th>\n",
              "      <td>k8MO</td>\n",
              "      <td>3840.0</td>\n",
              "      <td>-1.06</td>\n",
              "      <td>7.4</td>\n",
              "      <td>8.80</td>\n",
              "      <td>1.22</td>\n",
              "      <td>1.40</td>\n",
              "    </tr>\n",
              "    <tr>\n",
              "      <th>17</th>\n",
              "      <td>M5</td>\n",
              "      <td>3170.0</td>\n",
              "      <td>-1.94</td>\n",
              "      <td>9.6</td>\n",
              "      <td>12.30</td>\n",
              "      <td>1.24</td>\n",
              "      <td>1.64</td>\n",
              "    </tr>\n",
              "  </tbody>\n",
              "</table>\n",
              "</div>\n",
              "      <button class=\"colab-df-convert\" onclick=\"convertToInteractive('df-c05c68b3-f5fb-45bb-88c1-39ddc66efddc')\"\n",
              "              title=\"Convert this dataframe to an interactive table.\"\n",
              "              style=\"display:none;\">\n",
              "        \n",
              "  <svg xmlns=\"http://www.w3.org/2000/svg\" height=\"24px\"viewBox=\"0 0 24 24\"\n",
              "       width=\"24px\">\n",
              "    <path d=\"M0 0h24v24H0V0z\" fill=\"none\"/>\n",
              "    <path d=\"M18.56 5.44l.94 2.06.94-2.06 2.06-.94-2.06-.94-.94-2.06-.94 2.06-2.06.94zm-11 1L8.5 8.5l.94-2.06 2.06-.94-2.06-.94L8.5 2.5l-.94 2.06-2.06.94zm10 10l.94 2.06.94-2.06 2.06-.94-2.06-.94-.94-2.06-.94 2.06-2.06.94z\"/><path d=\"M17.41 7.96l-1.37-1.37c-.4-.4-.92-.59-1.43-.59-.52 0-1.04.2-1.43.59L10.3 9.45l-7.72 7.72c-.78.78-.78 2.05 0 2.83L4 21.41c.39.39.9.59 1.41.59.51 0 1.02-.2 1.41-.59l7.78-7.78 2.81-2.81c.8-.78.8-2.07 0-2.86zM5.41 20L4 18.59l7.72-7.72 1.47 1.35L5.41 20z\"/>\n",
              "  </svg>\n",
              "      </button>\n",
              "      \n",
              "  <style>\n",
              "    .colab-df-container {\n",
              "      display:flex;\n",
              "      flex-wrap:wrap;\n",
              "      gap: 12px;\n",
              "    }\n",
              "\n",
              "    .colab-df-convert {\n",
              "      background-color: #E8F0FE;\n",
              "      border: none;\n",
              "      border-radius: 50%;\n",
              "      cursor: pointer;\n",
              "      display: none;\n",
              "      fill: #1967D2;\n",
              "      height: 32px;\n",
              "      padding: 0 0 0 0;\n",
              "      width: 32px;\n",
              "    }\n",
              "\n",
              "    .colab-df-convert:hover {\n",
              "      background-color: #E2EBFA;\n",
              "      box-shadow: 0px 1px 2px rgba(60, 64, 67, 0.3), 0px 1px 3px 1px rgba(60, 64, 67, 0.15);\n",
              "      fill: #174EA6;\n",
              "    }\n",
              "\n",
              "    [theme=dark] .colab-df-convert {\n",
              "      background-color: #3B4455;\n",
              "      fill: #D2E3FC;\n",
              "    }\n",
              "\n",
              "    [theme=dark] .colab-df-convert:hover {\n",
              "      background-color: #434B5C;\n",
              "      box-shadow: 0px 1px 3px 1px rgba(0, 0, 0, 0.15);\n",
              "      filter: drop-shadow(0px 1px 2px rgba(0, 0, 0, 0.3));\n",
              "      fill: #FFFFFF;\n",
              "    }\n",
              "  </style>\n",
              "\n",
              "      <script>\n",
              "        const buttonEl =\n",
              "          document.querySelector('#df-c05c68b3-f5fb-45bb-88c1-39ddc66efddc button.colab-df-convert');\n",
              "        buttonEl.style.display =\n",
              "          google.colab.kernel.accessAllowed ? 'block' : 'none';\n",
              "\n",
              "        async function convertToInteractive(key) {\n",
              "          const element = document.querySelector('#df-c05c68b3-f5fb-45bb-88c1-39ddc66efddc');\n",
              "          const dataTable =\n",
              "            await google.colab.kernel.invokeFunction('convertToInteractive',\n",
              "                                                     [key], {});\n",
              "          if (!dataTable) return;\n",
              "\n",
              "          const docLinkHtml = 'Like what you see? Visit the ' +\n",
              "            '<a target=\"_blank\" href=https://colab.research.google.com/notebooks/data_table.ipynb>data table notebook</a>'\n",
              "            + ' to learn more about interactive tables.';\n",
              "          element.innerHTML = '';\n",
              "          dataTable['output_type'] = 'display_data';\n",
              "          await google.colab.output.renderOutput(dataTable, element);\n",
              "          const docLink = document.createElement('div');\n",
              "          docLink.innerHTML = docLinkHtml;\n",
              "          element.appendChild(docLink);\n",
              "        }\n",
              "      </script>\n",
              "    </div>\n",
              "  </div>\n",
              "  "
            ]
          },
          "metadata": {},
          "execution_count": 5
        }
      ]
    },
    {
      "cell_type": "code",
      "source": [
        "g[\"BC\"]= g['M_bol']-g['M_v']"
      ],
      "metadata": {
        "id": "-Y6380am4Tas"
      },
      "execution_count": 6,
      "outputs": []
    },
    {
      "cell_type": "code",
      "source": [
        "g"
      ],
      "metadata": {
        "colab": {
          "base_uri": "https://localhost:8080/",
          "height": 607
        },
        "id": "5sM5pHG44rwq",
        "outputId": "e826ce27-5edd-4bd5-ebbc-21a102416e10"
      },
      "execution_count": 7,
      "outputs": [
        {
          "output_type": "execute_result",
          "data": {
            "text/plain": [
              "   Type in V   eff Temp  log(L/L_sun)  M_bol    M_v   U-B   B-V    BC\n",
              "0          O5   42000.0          5.94  -10.1  -5.70 -1.19 -0.33 -4.40\n",
              "1          BO   30000.0          4.78   -7.2  -4.00 -1.08 -0.30 -3.20\n",
              "2          B2   20900.0          2.39   -4.8  -2.45 -0.84 -0.24 -2.35\n",
              "3          B8   11400.0          2.34   -1.1  -0.25 -0.34 -0.11 -0.85\n",
              "4          A5    8180.0          1.14    1.8   1.95  0.10  0.15 -0.15\n",
              "5          A7       NaN           NaN    NaN    NaN   NaN   NaN   NaN\n",
              "6          F5    6650.0          0.54    3.4   3.50 -0.02  0.44 -0.10\n",
              "7          G2    5790.0         -0.10    4.5   4.70  0.12  0.63 -0.20\n",
              "8          KO       NaN           NaN    NaN    NaN   NaN   NaN   NaN\n",
              "9          K1       NaN           NaN    NaN    NaN   NaN   NaN   NaN\n",
              "10         K2    4830.0         -0.50    6.0   6.40  0.64  0.91 -0.40\n",
              "11         K3       NaN           NaN    NaN    NaN   NaN   NaN   NaN\n",
              "12         K4       NaN           NaN    NaN    NaN   NaN   NaN   NaN\n",
              "13         K5       NaN           NaN    NaN    NaN   NaN   NaN   NaN\n",
              "14         K6       NaN           NaN    NaN    NaN   NaN   NaN   NaN\n",
              "15         K7       NaN           NaN    NaN    NaN   NaN   NaN   NaN\n",
              "16       k8MO    3840.0         -1.06    7.4   8.80  1.22  1.40 -1.40\n",
              "17         M5    3170.0         -1.94    9.6  12.30  1.24  1.64 -2.70"
            ],
            "text/html": [
              "\n",
              "  <div id=\"df-337ad081-9505-419f-8711-285efde6038e\">\n",
              "    <div class=\"colab-df-container\">\n",
              "      <div>\n",
              "<style scoped>\n",
              "    .dataframe tbody tr th:only-of-type {\n",
              "        vertical-align: middle;\n",
              "    }\n",
              "\n",
              "    .dataframe tbody tr th {\n",
              "        vertical-align: top;\n",
              "    }\n",
              "\n",
              "    .dataframe thead th {\n",
              "        text-align: right;\n",
              "    }\n",
              "</style>\n",
              "<table border=\"1\" class=\"dataframe\">\n",
              "  <thead>\n",
              "    <tr style=\"text-align: right;\">\n",
              "      <th></th>\n",
              "      <th>Type in V</th>\n",
              "      <th>eff Temp</th>\n",
              "      <th>log(L/L_sun)</th>\n",
              "      <th>M_bol</th>\n",
              "      <th>M_v</th>\n",
              "      <th>U-B</th>\n",
              "      <th>B-V</th>\n",
              "      <th>BC</th>\n",
              "    </tr>\n",
              "  </thead>\n",
              "  <tbody>\n",
              "    <tr>\n",
              "      <th>0</th>\n",
              "      <td>O5</td>\n",
              "      <td>42000.0</td>\n",
              "      <td>5.94</td>\n",
              "      <td>-10.1</td>\n",
              "      <td>-5.70</td>\n",
              "      <td>-1.19</td>\n",
              "      <td>-0.33</td>\n",
              "      <td>-4.40</td>\n",
              "    </tr>\n",
              "    <tr>\n",
              "      <th>1</th>\n",
              "      <td>BO</td>\n",
              "      <td>30000.0</td>\n",
              "      <td>4.78</td>\n",
              "      <td>-7.2</td>\n",
              "      <td>-4.00</td>\n",
              "      <td>-1.08</td>\n",
              "      <td>-0.30</td>\n",
              "      <td>-3.20</td>\n",
              "    </tr>\n",
              "    <tr>\n",
              "      <th>2</th>\n",
              "      <td>B2</td>\n",
              "      <td>20900.0</td>\n",
              "      <td>2.39</td>\n",
              "      <td>-4.8</td>\n",
              "      <td>-2.45</td>\n",
              "      <td>-0.84</td>\n",
              "      <td>-0.24</td>\n",
              "      <td>-2.35</td>\n",
              "    </tr>\n",
              "    <tr>\n",
              "      <th>3</th>\n",
              "      <td>B8</td>\n",
              "      <td>11400.0</td>\n",
              "      <td>2.34</td>\n",
              "      <td>-1.1</td>\n",
              "      <td>-0.25</td>\n",
              "      <td>-0.34</td>\n",
              "      <td>-0.11</td>\n",
              "      <td>-0.85</td>\n",
              "    </tr>\n",
              "    <tr>\n",
              "      <th>4</th>\n",
              "      <td>A5</td>\n",
              "      <td>8180.0</td>\n",
              "      <td>1.14</td>\n",
              "      <td>1.8</td>\n",
              "      <td>1.95</td>\n",
              "      <td>0.10</td>\n",
              "      <td>0.15</td>\n",
              "      <td>-0.15</td>\n",
              "    </tr>\n",
              "    <tr>\n",
              "      <th>5</th>\n",
              "      <td>A7</td>\n",
              "      <td>NaN</td>\n",
              "      <td>NaN</td>\n",
              "      <td>NaN</td>\n",
              "      <td>NaN</td>\n",
              "      <td>NaN</td>\n",
              "      <td>NaN</td>\n",
              "      <td>NaN</td>\n",
              "    </tr>\n",
              "    <tr>\n",
              "      <th>6</th>\n",
              "      <td>F5</td>\n",
              "      <td>6650.0</td>\n",
              "      <td>0.54</td>\n",
              "      <td>3.4</td>\n",
              "      <td>3.50</td>\n",
              "      <td>-0.02</td>\n",
              "      <td>0.44</td>\n",
              "      <td>-0.10</td>\n",
              "    </tr>\n",
              "    <tr>\n",
              "      <th>7</th>\n",
              "      <td>G2</td>\n",
              "      <td>5790.0</td>\n",
              "      <td>-0.10</td>\n",
              "      <td>4.5</td>\n",
              "      <td>4.70</td>\n",
              "      <td>0.12</td>\n",
              "      <td>0.63</td>\n",
              "      <td>-0.20</td>\n",
              "    </tr>\n",
              "    <tr>\n",
              "      <th>8</th>\n",
              "      <td>KO</td>\n",
              "      <td>NaN</td>\n",
              "      <td>NaN</td>\n",
              "      <td>NaN</td>\n",
              "      <td>NaN</td>\n",
              "      <td>NaN</td>\n",
              "      <td>NaN</td>\n",
              "      <td>NaN</td>\n",
              "    </tr>\n",
              "    <tr>\n",
              "      <th>9</th>\n",
              "      <td>K1</td>\n",
              "      <td>NaN</td>\n",
              "      <td>NaN</td>\n",
              "      <td>NaN</td>\n",
              "      <td>NaN</td>\n",
              "      <td>NaN</td>\n",
              "      <td>NaN</td>\n",
              "      <td>NaN</td>\n",
              "    </tr>\n",
              "    <tr>\n",
              "      <th>10</th>\n",
              "      <td>K2</td>\n",
              "      <td>4830.0</td>\n",
              "      <td>-0.50</td>\n",
              "      <td>6.0</td>\n",
              "      <td>6.40</td>\n",
              "      <td>0.64</td>\n",
              "      <td>0.91</td>\n",
              "      <td>-0.40</td>\n",
              "    </tr>\n",
              "    <tr>\n",
              "      <th>11</th>\n",
              "      <td>K3</td>\n",
              "      <td>NaN</td>\n",
              "      <td>NaN</td>\n",
              "      <td>NaN</td>\n",
              "      <td>NaN</td>\n",
              "      <td>NaN</td>\n",
              "      <td>NaN</td>\n",
              "      <td>NaN</td>\n",
              "    </tr>\n",
              "    <tr>\n",
              "      <th>12</th>\n",
              "      <td>K4</td>\n",
              "      <td>NaN</td>\n",
              "      <td>NaN</td>\n",
              "      <td>NaN</td>\n",
              "      <td>NaN</td>\n",
              "      <td>NaN</td>\n",
              "      <td>NaN</td>\n",
              "      <td>NaN</td>\n",
              "    </tr>\n",
              "    <tr>\n",
              "      <th>13</th>\n",
              "      <td>K5</td>\n",
              "      <td>NaN</td>\n",
              "      <td>NaN</td>\n",
              "      <td>NaN</td>\n",
              "      <td>NaN</td>\n",
              "      <td>NaN</td>\n",
              "      <td>NaN</td>\n",
              "      <td>NaN</td>\n",
              "    </tr>\n",
              "    <tr>\n",
              "      <th>14</th>\n",
              "      <td>K6</td>\n",
              "      <td>NaN</td>\n",
              "      <td>NaN</td>\n",
              "      <td>NaN</td>\n",
              "      <td>NaN</td>\n",
              "      <td>NaN</td>\n",
              "      <td>NaN</td>\n",
              "      <td>NaN</td>\n",
              "    </tr>\n",
              "    <tr>\n",
              "      <th>15</th>\n",
              "      <td>K7</td>\n",
              "      <td>NaN</td>\n",
              "      <td>NaN</td>\n",
              "      <td>NaN</td>\n",
              "      <td>NaN</td>\n",
              "      <td>NaN</td>\n",
              "      <td>NaN</td>\n",
              "      <td>NaN</td>\n",
              "    </tr>\n",
              "    <tr>\n",
              "      <th>16</th>\n",
              "      <td>k8MO</td>\n",
              "      <td>3840.0</td>\n",
              "      <td>-1.06</td>\n",
              "      <td>7.4</td>\n",
              "      <td>8.80</td>\n",
              "      <td>1.22</td>\n",
              "      <td>1.40</td>\n",
              "      <td>-1.40</td>\n",
              "    </tr>\n",
              "    <tr>\n",
              "      <th>17</th>\n",
              "      <td>M5</td>\n",
              "      <td>3170.0</td>\n",
              "      <td>-1.94</td>\n",
              "      <td>9.6</td>\n",
              "      <td>12.30</td>\n",
              "      <td>1.24</td>\n",
              "      <td>1.64</td>\n",
              "      <td>-2.70</td>\n",
              "    </tr>\n",
              "  </tbody>\n",
              "</table>\n",
              "</div>\n",
              "      <button class=\"colab-df-convert\" onclick=\"convertToInteractive('df-337ad081-9505-419f-8711-285efde6038e')\"\n",
              "              title=\"Convert this dataframe to an interactive table.\"\n",
              "              style=\"display:none;\">\n",
              "        \n",
              "  <svg xmlns=\"http://www.w3.org/2000/svg\" height=\"24px\"viewBox=\"0 0 24 24\"\n",
              "       width=\"24px\">\n",
              "    <path d=\"M0 0h24v24H0V0z\" fill=\"none\"/>\n",
              "    <path d=\"M18.56 5.44l.94 2.06.94-2.06 2.06-.94-2.06-.94-.94-2.06-.94 2.06-2.06.94zm-11 1L8.5 8.5l.94-2.06 2.06-.94-2.06-.94L8.5 2.5l-.94 2.06-2.06.94zm10 10l.94 2.06.94-2.06 2.06-.94-2.06-.94-.94-2.06-.94 2.06-2.06.94z\"/><path d=\"M17.41 7.96l-1.37-1.37c-.4-.4-.92-.59-1.43-.59-.52 0-1.04.2-1.43.59L10.3 9.45l-7.72 7.72c-.78.78-.78 2.05 0 2.83L4 21.41c.39.39.9.59 1.41.59.51 0 1.02-.2 1.41-.59l7.78-7.78 2.81-2.81c.8-.78.8-2.07 0-2.86zM5.41 20L4 18.59l7.72-7.72 1.47 1.35L5.41 20z\"/>\n",
              "  </svg>\n",
              "      </button>\n",
              "      \n",
              "  <style>\n",
              "    .colab-df-container {\n",
              "      display:flex;\n",
              "      flex-wrap:wrap;\n",
              "      gap: 12px;\n",
              "    }\n",
              "\n",
              "    .colab-df-convert {\n",
              "      background-color: #E8F0FE;\n",
              "      border: none;\n",
              "      border-radius: 50%;\n",
              "      cursor: pointer;\n",
              "      display: none;\n",
              "      fill: #1967D2;\n",
              "      height: 32px;\n",
              "      padding: 0 0 0 0;\n",
              "      width: 32px;\n",
              "    }\n",
              "\n",
              "    .colab-df-convert:hover {\n",
              "      background-color: #E2EBFA;\n",
              "      box-shadow: 0px 1px 2px rgba(60, 64, 67, 0.3), 0px 1px 3px 1px rgba(60, 64, 67, 0.15);\n",
              "      fill: #174EA6;\n",
              "    }\n",
              "\n",
              "    [theme=dark] .colab-df-convert {\n",
              "      background-color: #3B4455;\n",
              "      fill: #D2E3FC;\n",
              "    }\n",
              "\n",
              "    [theme=dark] .colab-df-convert:hover {\n",
              "      background-color: #434B5C;\n",
              "      box-shadow: 0px 1px 3px 1px rgba(0, 0, 0, 0.15);\n",
              "      filter: drop-shadow(0px 1px 2px rgba(0, 0, 0, 0.3));\n",
              "      fill: #FFFFFF;\n",
              "    }\n",
              "  </style>\n",
              "\n",
              "      <script>\n",
              "        const buttonEl =\n",
              "          document.querySelector('#df-337ad081-9505-419f-8711-285efde6038e button.colab-df-convert');\n",
              "        buttonEl.style.display =\n",
              "          google.colab.kernel.accessAllowed ? 'block' : 'none';\n",
              "\n",
              "        async function convertToInteractive(key) {\n",
              "          const element = document.querySelector('#df-337ad081-9505-419f-8711-285efde6038e');\n",
              "          const dataTable =\n",
              "            await google.colab.kernel.invokeFunction('convertToInteractive',\n",
              "                                                     [key], {});\n",
              "          if (!dataTable) return;\n",
              "\n",
              "          const docLinkHtml = 'Like what you see? Visit the ' +\n",
              "            '<a target=\"_blank\" href=https://colab.research.google.com/notebooks/data_table.ipynb>data table notebook</a>'\n",
              "            + ' to learn more about interactive tables.';\n",
              "          element.innerHTML = '';\n",
              "          dataTable['output_type'] = 'display_data';\n",
              "          await google.colab.output.renderOutput(dataTable, element);\n",
              "          const docLink = document.createElement('div');\n",
              "          docLink.innerHTML = docLinkHtml;\n",
              "          element.appendChild(docLink);\n",
              "        }\n",
              "      </script>\n",
              "    </div>\n",
              "  </div>\n",
              "  "
            ]
          },
          "metadata": {},
          "execution_count": 7
        }
      ]
    },
    {
      "cell_type": "code",
      "source": [
        "g.interpolate()"
      ],
      "metadata": {
        "colab": {
          "base_uri": "https://localhost:8080/",
          "height": 607
        },
        "id": "B-p0LE2R3s4L",
        "outputId": "381054bd-5881-4f85-8843-881883933455"
      },
      "execution_count": null,
      "outputs": [
        {
          "output_type": "execute_result",
          "data": {
            "text/plain": [
              "   Type in V   eff Temp  log(L/L_sun)      M_bol        M_v       U-B  \\\n",
              "0          O5   42000.0      5.940000 -10.100000  -5.700000 -1.190000   \n",
              "1          BO   30000.0      4.780000  -7.200000  -4.000000 -1.080000   \n",
              "2          B2   20900.0      2.390000  -4.800000  -2.450000 -0.840000   \n",
              "3          B8   11400.0      2.340000  -1.100000  -0.250000 -0.340000   \n",
              "4          A5    8180.0      1.140000   1.800000   1.950000  0.100000   \n",
              "5          A7    7415.0      0.840000   2.600000   2.725000  0.040000   \n",
              "6          F5    6650.0      0.540000   3.400000   3.500000 -0.020000   \n",
              "7          G2    5790.0     -0.100000   4.500000   4.700000  0.120000   \n",
              "8          KO    5470.0     -0.233333   5.000000   5.266667  0.293333   \n",
              "9          K1    5150.0     -0.366667   5.500000   5.833333  0.466667   \n",
              "10         K2    4830.0     -0.500000   6.000000   6.400000  0.640000   \n",
              "11         K3    4665.0     -0.593333   6.233333   6.800000  0.736667   \n",
              "12         K4    4500.0     -0.686667   6.466667   7.200000  0.833333   \n",
              "13         K5    4335.0     -0.780000   6.700000   7.600000  0.930000   \n",
              "14         K6    4170.0     -0.873333   6.933333   8.000000  1.026667   \n",
              "15         K7    4005.0     -0.966667   7.166667   8.400000  1.123333   \n",
              "16       k8MO    3840.0     -1.060000   7.400000   8.800000  1.220000   \n",
              "17         M5    3170.0     -1.940000   9.600000  12.300000  1.240000   \n",
              "\n",
              "         B-V        BC  \n",
              "0  -0.330000 -4.400000  \n",
              "1  -0.300000 -3.200000  \n",
              "2  -0.240000 -2.350000  \n",
              "3  -0.110000 -0.850000  \n",
              "4   0.150000 -0.150000  \n",
              "5   0.295000 -0.125000  \n",
              "6   0.440000 -0.100000  \n",
              "7   0.630000 -0.200000  \n",
              "8   0.723333 -0.266667  \n",
              "9   0.816667 -0.333333  \n",
              "10  0.910000 -0.400000  \n",
              "11  0.991667 -0.566667  \n",
              "12  1.073333 -0.733333  \n",
              "13  1.155000 -0.900000  \n",
              "14  1.236667 -1.066667  \n",
              "15  1.318333 -1.233333  \n",
              "16  1.400000 -1.400000  \n",
              "17  1.640000 -2.700000  "
            ],
            "text/html": [
              "\n",
              "  <div id=\"df-7224d722-e598-48ea-b0ca-dc5cd4235098\">\n",
              "    <div class=\"colab-df-container\">\n",
              "      <div>\n",
              "<style scoped>\n",
              "    .dataframe tbody tr th:only-of-type {\n",
              "        vertical-align: middle;\n",
              "    }\n",
              "\n",
              "    .dataframe tbody tr th {\n",
              "        vertical-align: top;\n",
              "    }\n",
              "\n",
              "    .dataframe thead th {\n",
              "        text-align: right;\n",
              "    }\n",
              "</style>\n",
              "<table border=\"1\" class=\"dataframe\">\n",
              "  <thead>\n",
              "    <tr style=\"text-align: right;\">\n",
              "      <th></th>\n",
              "      <th>Type in V</th>\n",
              "      <th>eff Temp</th>\n",
              "      <th>log(L/L_sun)</th>\n",
              "      <th>M_bol</th>\n",
              "      <th>M_v</th>\n",
              "      <th>U-B</th>\n",
              "      <th>B-V</th>\n",
              "      <th>BC</th>\n",
              "    </tr>\n",
              "  </thead>\n",
              "  <tbody>\n",
              "    <tr>\n",
              "      <th>0</th>\n",
              "      <td>O5</td>\n",
              "      <td>42000.0</td>\n",
              "      <td>5.940000</td>\n",
              "      <td>-10.100000</td>\n",
              "      <td>-5.700000</td>\n",
              "      <td>-1.190000</td>\n",
              "      <td>-0.330000</td>\n",
              "      <td>-4.400000</td>\n",
              "    </tr>\n",
              "    <tr>\n",
              "      <th>1</th>\n",
              "      <td>BO</td>\n",
              "      <td>30000.0</td>\n",
              "      <td>4.780000</td>\n",
              "      <td>-7.200000</td>\n",
              "      <td>-4.000000</td>\n",
              "      <td>-1.080000</td>\n",
              "      <td>-0.300000</td>\n",
              "      <td>-3.200000</td>\n",
              "    </tr>\n",
              "    <tr>\n",
              "      <th>2</th>\n",
              "      <td>B2</td>\n",
              "      <td>20900.0</td>\n",
              "      <td>2.390000</td>\n",
              "      <td>-4.800000</td>\n",
              "      <td>-2.450000</td>\n",
              "      <td>-0.840000</td>\n",
              "      <td>-0.240000</td>\n",
              "      <td>-2.350000</td>\n",
              "    </tr>\n",
              "    <tr>\n",
              "      <th>3</th>\n",
              "      <td>B8</td>\n",
              "      <td>11400.0</td>\n",
              "      <td>2.340000</td>\n",
              "      <td>-1.100000</td>\n",
              "      <td>-0.250000</td>\n",
              "      <td>-0.340000</td>\n",
              "      <td>-0.110000</td>\n",
              "      <td>-0.850000</td>\n",
              "    </tr>\n",
              "    <tr>\n",
              "      <th>4</th>\n",
              "      <td>A5</td>\n",
              "      <td>8180.0</td>\n",
              "      <td>1.140000</td>\n",
              "      <td>1.800000</td>\n",
              "      <td>1.950000</td>\n",
              "      <td>0.100000</td>\n",
              "      <td>0.150000</td>\n",
              "      <td>-0.150000</td>\n",
              "    </tr>\n",
              "    <tr>\n",
              "      <th>5</th>\n",
              "      <td>A7</td>\n",
              "      <td>7415.0</td>\n",
              "      <td>0.840000</td>\n",
              "      <td>2.600000</td>\n",
              "      <td>2.725000</td>\n",
              "      <td>0.040000</td>\n",
              "      <td>0.295000</td>\n",
              "      <td>-0.125000</td>\n",
              "    </tr>\n",
              "    <tr>\n",
              "      <th>6</th>\n",
              "      <td>F5</td>\n",
              "      <td>6650.0</td>\n",
              "      <td>0.540000</td>\n",
              "      <td>3.400000</td>\n",
              "      <td>3.500000</td>\n",
              "      <td>-0.020000</td>\n",
              "      <td>0.440000</td>\n",
              "      <td>-0.100000</td>\n",
              "    </tr>\n",
              "    <tr>\n",
              "      <th>7</th>\n",
              "      <td>G2</td>\n",
              "      <td>5790.0</td>\n",
              "      <td>-0.100000</td>\n",
              "      <td>4.500000</td>\n",
              "      <td>4.700000</td>\n",
              "      <td>0.120000</td>\n",
              "      <td>0.630000</td>\n",
              "      <td>-0.200000</td>\n",
              "    </tr>\n",
              "    <tr>\n",
              "      <th>8</th>\n",
              "      <td>KO</td>\n",
              "      <td>5470.0</td>\n",
              "      <td>-0.233333</td>\n",
              "      <td>5.000000</td>\n",
              "      <td>5.266667</td>\n",
              "      <td>0.293333</td>\n",
              "      <td>0.723333</td>\n",
              "      <td>-0.266667</td>\n",
              "    </tr>\n",
              "    <tr>\n",
              "      <th>9</th>\n",
              "      <td>K1</td>\n",
              "      <td>5150.0</td>\n",
              "      <td>-0.366667</td>\n",
              "      <td>5.500000</td>\n",
              "      <td>5.833333</td>\n",
              "      <td>0.466667</td>\n",
              "      <td>0.816667</td>\n",
              "      <td>-0.333333</td>\n",
              "    </tr>\n",
              "    <tr>\n",
              "      <th>10</th>\n",
              "      <td>K2</td>\n",
              "      <td>4830.0</td>\n",
              "      <td>-0.500000</td>\n",
              "      <td>6.000000</td>\n",
              "      <td>6.400000</td>\n",
              "      <td>0.640000</td>\n",
              "      <td>0.910000</td>\n",
              "      <td>-0.400000</td>\n",
              "    </tr>\n",
              "    <tr>\n",
              "      <th>11</th>\n",
              "      <td>K3</td>\n",
              "      <td>4665.0</td>\n",
              "      <td>-0.593333</td>\n",
              "      <td>6.233333</td>\n",
              "      <td>6.800000</td>\n",
              "      <td>0.736667</td>\n",
              "      <td>0.991667</td>\n",
              "      <td>-0.566667</td>\n",
              "    </tr>\n",
              "    <tr>\n",
              "      <th>12</th>\n",
              "      <td>K4</td>\n",
              "      <td>4500.0</td>\n",
              "      <td>-0.686667</td>\n",
              "      <td>6.466667</td>\n",
              "      <td>7.200000</td>\n",
              "      <td>0.833333</td>\n",
              "      <td>1.073333</td>\n",
              "      <td>-0.733333</td>\n",
              "    </tr>\n",
              "    <tr>\n",
              "      <th>13</th>\n",
              "      <td>K5</td>\n",
              "      <td>4335.0</td>\n",
              "      <td>-0.780000</td>\n",
              "      <td>6.700000</td>\n",
              "      <td>7.600000</td>\n",
              "      <td>0.930000</td>\n",
              "      <td>1.155000</td>\n",
              "      <td>-0.900000</td>\n",
              "    </tr>\n",
              "    <tr>\n",
              "      <th>14</th>\n",
              "      <td>K6</td>\n",
              "      <td>4170.0</td>\n",
              "      <td>-0.873333</td>\n",
              "      <td>6.933333</td>\n",
              "      <td>8.000000</td>\n",
              "      <td>1.026667</td>\n",
              "      <td>1.236667</td>\n",
              "      <td>-1.066667</td>\n",
              "    </tr>\n",
              "    <tr>\n",
              "      <th>15</th>\n",
              "      <td>K7</td>\n",
              "      <td>4005.0</td>\n",
              "      <td>-0.966667</td>\n",
              "      <td>7.166667</td>\n",
              "      <td>8.400000</td>\n",
              "      <td>1.123333</td>\n",
              "      <td>1.318333</td>\n",
              "      <td>-1.233333</td>\n",
              "    </tr>\n",
              "    <tr>\n",
              "      <th>16</th>\n",
              "      <td>k8MO</td>\n",
              "      <td>3840.0</td>\n",
              "      <td>-1.060000</td>\n",
              "      <td>7.400000</td>\n",
              "      <td>8.800000</td>\n",
              "      <td>1.220000</td>\n",
              "      <td>1.400000</td>\n",
              "      <td>-1.400000</td>\n",
              "    </tr>\n",
              "    <tr>\n",
              "      <th>17</th>\n",
              "      <td>M5</td>\n",
              "      <td>3170.0</td>\n",
              "      <td>-1.940000</td>\n",
              "      <td>9.600000</td>\n",
              "      <td>12.300000</td>\n",
              "      <td>1.240000</td>\n",
              "      <td>1.640000</td>\n",
              "      <td>-2.700000</td>\n",
              "    </tr>\n",
              "  </tbody>\n",
              "</table>\n",
              "</div>\n",
              "      <button class=\"colab-df-convert\" onclick=\"convertToInteractive('df-7224d722-e598-48ea-b0ca-dc5cd4235098')\"\n",
              "              title=\"Convert this dataframe to an interactive table.\"\n",
              "              style=\"display:none;\">\n",
              "        \n",
              "  <svg xmlns=\"http://www.w3.org/2000/svg\" height=\"24px\"viewBox=\"0 0 24 24\"\n",
              "       width=\"24px\">\n",
              "    <path d=\"M0 0h24v24H0V0z\" fill=\"none\"/>\n",
              "    <path d=\"M18.56 5.44l.94 2.06.94-2.06 2.06-.94-2.06-.94-.94-2.06-.94 2.06-2.06.94zm-11 1L8.5 8.5l.94-2.06 2.06-.94-2.06-.94L8.5 2.5l-.94 2.06-2.06.94zm10 10l.94 2.06.94-2.06 2.06-.94-2.06-.94-.94-2.06-.94 2.06-2.06.94z\"/><path d=\"M17.41 7.96l-1.37-1.37c-.4-.4-.92-.59-1.43-.59-.52 0-1.04.2-1.43.59L10.3 9.45l-7.72 7.72c-.78.78-.78 2.05 0 2.83L4 21.41c.39.39.9.59 1.41.59.51 0 1.02-.2 1.41-.59l7.78-7.78 2.81-2.81c.8-.78.8-2.07 0-2.86zM5.41 20L4 18.59l7.72-7.72 1.47 1.35L5.41 20z\"/>\n",
              "  </svg>\n",
              "      </button>\n",
              "      \n",
              "  <style>\n",
              "    .colab-df-container {\n",
              "      display:flex;\n",
              "      flex-wrap:wrap;\n",
              "      gap: 12px;\n",
              "    }\n",
              "\n",
              "    .colab-df-convert {\n",
              "      background-color: #E8F0FE;\n",
              "      border: none;\n",
              "      border-radius: 50%;\n",
              "      cursor: pointer;\n",
              "      display: none;\n",
              "      fill: #1967D2;\n",
              "      height: 32px;\n",
              "      padding: 0 0 0 0;\n",
              "      width: 32px;\n",
              "    }\n",
              "\n",
              "    .colab-df-convert:hover {\n",
              "      background-color: #E2EBFA;\n",
              "      box-shadow: 0px 1px 2px rgba(60, 64, 67, 0.3), 0px 1px 3px 1px rgba(60, 64, 67, 0.15);\n",
              "      fill: #174EA6;\n",
              "    }\n",
              "\n",
              "    [theme=dark] .colab-df-convert {\n",
              "      background-color: #3B4455;\n",
              "      fill: #D2E3FC;\n",
              "    }\n",
              "\n",
              "    [theme=dark] .colab-df-convert:hover {\n",
              "      background-color: #434B5C;\n",
              "      box-shadow: 0px 1px 3px 1px rgba(0, 0, 0, 0.15);\n",
              "      filter: drop-shadow(0px 1px 2px rgba(0, 0, 0, 0.3));\n",
              "      fill: #FFFFFF;\n",
              "    }\n",
              "  </style>\n",
              "\n",
              "      <script>\n",
              "        const buttonEl =\n",
              "          document.querySelector('#df-7224d722-e598-48ea-b0ca-dc5cd4235098 button.colab-df-convert');\n",
              "        buttonEl.style.display =\n",
              "          google.colab.kernel.accessAllowed ? 'block' : 'none';\n",
              "\n",
              "        async function convertToInteractive(key) {\n",
              "          const element = document.querySelector('#df-7224d722-e598-48ea-b0ca-dc5cd4235098');\n",
              "          const dataTable =\n",
              "            await google.colab.kernel.invokeFunction('convertToInteractive',\n",
              "                                                     [key], {});\n",
              "          if (!dataTable) return;\n",
              "\n",
              "          const docLinkHtml = 'Like what you see? Visit the ' +\n",
              "            '<a target=\"_blank\" href=https://colab.research.google.com/notebooks/data_table.ipynb>data table notebook</a>'\n",
              "            + ' to learn more about interactive tables.';\n",
              "          element.innerHTML = '';\n",
              "          dataTable['output_type'] = 'display_data';\n",
              "          await google.colab.output.renderOutput(dataTable, element);\n",
              "          const docLink = document.createElement('div');\n",
              "          docLink.innerHTML = docLinkHtml;\n",
              "          element.appendChild(docLink);\n",
              "        }\n",
              "      </script>\n",
              "    </div>\n",
              "  </div>\n",
              "  "
            ]
          },
          "metadata": {},
          "execution_count": 25
        }
      ]
    },
    {
      "cell_type": "markdown",
      "source": [
        "Calculating the stellar radius"
      ],
      "metadata": {
        "id": "nEObt-a-96F9"
      }
    },
    {
      "cell_type": "code",
      "source": [
        "import astropy.units"
      ],
      "metadata": {
        "id": "Vnnaohz796wH"
      },
      "execution_count": 60,
      "outputs": []
    },
    {
      "cell_type": "code",
      "source": [
        "import math"
      ],
      "metadata": {
        "id": "cpQECkGC_K4e"
      },
      "execution_count": 22,
      "outputs": []
    },
    {
      "cell_type": "code",
      "source": [
        "from astropy.constants import sigma_sb"
      ],
      "metadata": {
        "id": "qpO01Zr8-TCN"
      },
      "execution_count": 23,
      "outputs": []
    },
    {
      "cell_type": "markdown",
      "source": [
        "Importing Boltzman's consstant"
      ],
      "metadata": {
        "id": "zp3lXEKt-hyg"
      }
    },
    {
      "cell_type": "code",
      "source": [
        "sigma_sb"
      ],
      "metadata": {
        "colab": {
          "base_uri": "https://localhost:8080/",
          "height": 59
        },
        "id": "vYRoMWxq-cZp",
        "outputId": "d686513a-1336-4310-ec39-59cc46c4f57b"
      },
      "execution_count": 24,
      "outputs": [
        {
          "output_type": "execute_result",
          "data": {
            "text/plain": [
              "<<class 'astropy.constants.codata2018.CODATA2018'> name='Stefan-Boltzmann constant' value=5.6703744191844314e-08 uncertainty=0.0 unit='W / (K4 m2)' reference='CODATA 2018'>"
            ],
            "text/latex": "$5.6703744 \\times 10^{-8} \\; \\mathrm{\\frac{W}{m^{2}\\,K^{4}}}$"
          },
          "metadata": {},
          "execution_count": 19
        },
        {
          "output_type": "execute_result",
          "data": {
            "text/plain": [
              "<<class 'astropy.constants.codata2018.CODATA2018'> name='Stefan-Boltzmann constant' value=5.6703744191844314e-08 uncertainty=0.0 unit='W / (K4 m2)' reference='CODATA 2018'>"
            ],
            "text/latex": "$5.6703744 \\times 10^{-8} \\; \\mathrm{\\frac{W}{m^{2}\\,K^{4}}}$"
          },
          "metadata": {},
          "execution_count": 24
        }
      ]
    },
    {
      "cell_type": "markdown",
      "source": [
        "Creating the function, to compute the stellar raduis"
      ],
      "metadata": {
        "id": "0_u0ubOf-8pj"
      }
    },
    {
      "cell_type": "code",
      "source": [
        "def R(T, x):\n",
        "  p= T**4\n",
        "  L_star = (10**x)* (3.828*(10**26))\n",
        "  s= 4*math.pi* 5.6703744*(10**-8) *p\n",
        "  o= math.sqrt(L_star/s)\n",
        "  return o\n"
      ],
      "metadata": {
        "id": "YSpD1Wy_-eH-"
      },
      "execution_count": 47,
      "outputs": []
    },
    {
      "cell_type": "markdown",
      "source": [
        "Raduis of star CD-43 *12272B*"
      ],
      "metadata": {
        "id": "FGTyQHzrL4Av"
      }
    },
    {
      "cell_type": "code",
      "source": [
        "R(7415, 0.84)"
      ],
      "metadata": {
        "colab": {
          "base_uri": "https://localhost:8080/"
        },
        "id": "l9TmzPr9LouC",
        "outputId": "01dd9585-183b-4c4f-fcbb-8b9953bf7070"
      },
      "execution_count": 48,
      "outputs": [
        {
          "output_type": "execute_result",
          "data": {
            "text/plain": [
              "1108799073.1213808"
            ]
          },
          "metadata": {},
          "execution_count": 48
        }
      ]
    },
    {
      "cell_type": "markdown",
      "source": [
        "Stellar Raduis of HR1236"
      ],
      "metadata": {
        "id": "J2Rl8vmmMBez"
      }
    },
    {
      "cell_type": "code",
      "source": [
        "R(5150.0, -0.366667)"
      ],
      "metadata": {
        "colab": {
          "base_uri": "https://localhost:8080/"
        },
        "id": "DQQLofO6MIea",
        "outputId": "25a0d9fa-afd5-4010-e831-56ced118934d"
      },
      "execution_count": 49,
      "outputs": [
        {
          "output_type": "execute_result",
          "data": {
            "text/plain": [
              "572963830.1817929"
            ]
          },
          "metadata": {},
          "execution_count": 49
        }
      ]
    },
    {
      "cell_type": "code",
      "source": [
        "L_sun"
      ],
      "metadata": {
        "colab": {
          "base_uri": "https://localhost:8080/",
          "height": 37
        },
        "id": "ASFC9HtUHQ1W",
        "outputId": "e7e741cf-b9b4-4d98-c040-6128d56f1111"
      },
      "execution_count": 28,
      "outputs": [
        {
          "output_type": "execute_result",
          "data": {
            "text/plain": [
              "<<class 'astropy.constants.iau2015.IAU2015'> name='Nominal solar luminosity' value=3.828e+26 uncertainty=0.0 unit='W' reference='IAU 2015 Resolution B 3'>"
            ],
            "text/latex": "$3.828 \\times 10^{26} \\; \\mathrm{W}$"
          },
          "metadata": {},
          "execution_count": 28
        }
      ]
    },
    {
      "cell_type": "markdown",
      "source": [
        "Mass and Surface gravity"
      ],
      "metadata": {
        "id": "EPMUAzfqP3We"
      }
    },
    {
      "cell_type": "code",
      "source": [
        "M_1=10**(0.84/ 3.5)\n",
        "M_1"
      ],
      "metadata": {
        "colab": {
          "base_uri": "https://localhost:8080/"
        },
        "id": "sLlTrtVp_TRL",
        "outputId": "3e1ebe02-455a-46ea-f7d4-ca90b9e8321d"
      },
      "execution_count": 92,
      "outputs": [
        {
          "output_type": "execute_result",
          "data": {
            "text/plain": [
              "1.7378008287493754"
            ]
          },
          "metadata": {},
          "execution_count": 92
        }
      ]
    },
    {
      "cell_type": "code",
      "source": [
        "M_2=10**(-0.366667/ 3.5)\n",
        "M_2"
      ],
      "metadata": {
        "id": "obv8qS7fVkZZ",
        "outputId": "47b44418-15d8-416a-8134-bb9a3ed5a362",
        "colab": {
          "base_uri": "https://localhost:8080/"
        }
      },
      "execution_count": 93,
      "outputs": [
        {
          "output_type": "execute_result",
          "data": {
            "text/plain": [
              "0.7856660736471623"
            ]
          },
          "metadata": {},
          "execution_count": 93
        }
      ]
    },
    {
      "cell_type": "markdown",
      "source": [
        "Surface gravity"
      ],
      "metadata": {
        "id": "nrgMlNexlkNw"
      }
    },
    {
      "cell_type": "markdown",
      "source": [],
      "metadata": {
        "id": "fRsPh8kSpiK4"
      }
    },
    {
      "cell_type": "code",
      "source": [
        "import astropy"
      ],
      "metadata": {
        "id": "6tZQ51FKpuKB"
      },
      "execution_count": 87,
      "outputs": []
    },
    {
      "cell_type": "code",
      "source": [
        "import astropy.units as u"
      ],
      "metadata": {
        "id": "TlX1kx1BpwSf"
      },
      "execution_count": 88,
      "outputs": []
    },
    {
      "cell_type": "code",
      "source": [
        "from astropy.constants import M_sun"
      ],
      "metadata": {
        "id": "dK6bc--uq3eh"
      },
      "execution_count": 89,
      "outputs": []
    },
    {
      "cell_type": "code",
      "source": [
        "from astropy.constants import G "
      ],
      "metadata": {
        "id": "3P-ic6Ztp5a9"
      },
      "execution_count": 90,
      "outputs": []
    },
    {
      "cell_type": "code",
      "source": [
        "x_1 = 0.84\n",
        "x_2 = -0.366667\n",
        "x_1, x_2\n"
      ],
      "metadata": {
        "id": "u2NJjgZXqdlH",
        "outputId": "b9ca9944-5350-49d6-92af-3e1f0fb5c940",
        "colab": {
          "base_uri": "https://localhost:8080/"
        }
      },
      "execution_count": 91,
      "outputs": [
        {
          "output_type": "execute_result",
          "data": {
            "text/plain": [
              "(0.84, -0.366667)"
            ]
          },
          "metadata": {},
          "execution_count": 91
        }
      ]
    },
    {
      "cell_type": "markdown",
      "source": [
        "effective temperature of sun "
      ],
      "metadata": {
        "id": "yns0_8_u5IEG"
      }
    },
    {
      "cell_type": "code",
      "source": [
        "T_s = 5780"
      ],
      "metadata": {
        "id": "-BXZ2SQd5OEJ"
      },
      "execution_count": 94,
      "outputs": []
    },
    {
      "cell_type": "markdown",
      "source": [
        "Star effective temperature"
      ],
      "metadata": {
        "id": "SbrRJ9Eh7Ona"
      }
    },
    {
      "cell_type": "code",
      "source": [
        "T_1 = 7415"
      ],
      "metadata": {
        "id": "qTaKvbkK7THs"
      },
      "execution_count": 95,
      "outputs": []
    },
    {
      "cell_type": "code",
      "source": [
        "T_2 = 5150"
      ],
      "metadata": {
        "id": "dGxETRpR7WPB"
      },
      "execution_count": 96,
      "outputs": []
    },
    {
      "cell_type": "code",
      "source": [
        "\n",
        "p= math.log(M_1, 10)+ 4* math.log((T_1/ T_s), 10) -  x_1\n",
        "g_1 = 10**(p)\n",
        "g_1"
      ],
      "metadata": {
        "id": "AaKPlQXO3cLY",
        "outputId": "924a6f77-2714-4942-a468-ed6848cb8585",
        "colab": {
          "base_uri": "https://localhost:8080/"
        }
      },
      "execution_count": 97,
      "outputs": [
        {
          "output_type": "execute_result",
          "data": {
            "text/plain": [
              "0.6803513764659721"
            ]
          },
          "metadata": {},
          "execution_count": 97
        }
      ]
    },
    {
      "cell_type": "code",
      "source": [
        "def g(M,x, T):\n",
        "  T_s = 5780\n",
        "  p= math.log(M, 10)+ (4* math.log((T/ T_s), 10)) -  x\n",
        "  g = 10**(p)\n",
        "  return g"
      ],
      "metadata": {
        "id": "brVX65PH715C"
      },
      "execution_count": 103,
      "outputs": []
    },
    {
      "cell_type": "code",
      "source": [
        "g(M_1, x_1, T_1)"
      ],
      "metadata": {
        "id": "6oHjjyFz8pCg",
        "outputId": "8e466560-8cbf-4540-e38f-1e18fbd2ea89",
        "colab": {
          "base_uri": "https://localhost:8080/"
        }
      },
      "execution_count": 104,
      "outputs": [
        {
          "output_type": "execute_result",
          "data": {
            "text/plain": [
              "0.6803513764659721"
            ]
          },
          "metadata": {},
          "execution_count": 104
        }
      ]
    },
    {
      "cell_type": "code",
      "source": [
        "g(M_2, x_2, T_2)"
      ],
      "metadata": {
        "id": "iYcA96RE80bV",
        "outputId": "14bd47ee-601c-463e-c462-ac96b19d437d",
        "colab": {
          "base_uri": "https://localhost:8080/"
        }
      },
      "execution_count": 105,
      "outputs": [
        {
          "output_type": "execute_result",
          "data": {
            "text/plain": [
              "1.1519206466053182"
            ]
          },
          "metadata": {},
          "execution_count": 105
        }
      ]
    },
    {
      "cell_type": "code",
      "source": [],
      "metadata": {
        "id": "uLEatlXtAJ0D"
      },
      "execution_count": null,
      "outputs": []
    }
  ]
}