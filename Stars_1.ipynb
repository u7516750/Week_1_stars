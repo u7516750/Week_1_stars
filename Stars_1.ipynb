{
  "nbformat": 4,
  "nbformat_minor": 0,
  "metadata": {
    "colab": {
      "provenance": []
    },
    "kernelspec": {
      "name": "python3",
      "display_name": "Python 3"
    },
    "language_info": {
      "name": "python"
    }
  },
  "cells": [
    {
      "cell_type": "code",
      "execution_count": 1,
      "metadata": {
        "colab": {
          "base_uri": "https://localhost:8080/"
        },
        "id": "_cSkY0Ai9Ycg",
        "outputId": "06acdfb7-dd8e-4ab7-d3c8-2903da4793ce"
      },
      "outputs": [
        {
          "output_type": "stream",
          "name": "stdout",
          "text": [
            "Looking in indexes: https://pypi.org/simple, https://us-python.pkg.dev/colab-wheels/public/simple/\n",
            "Collecting uncertainties\n",
            "  Downloading uncertainties-3.1.7-py2.py3-none-any.whl (98 kB)\n",
            "\u001b[2K     \u001b[90m━━━━━━━━━━━━━━━━━━━━━━━━━━━━━━━━━━━━━━━━\u001b[0m \u001b[32m98.4/98.4 KB\u001b[0m \u001b[31m3.0 MB/s\u001b[0m eta \u001b[36m0:00:00\u001b[0m\n",
            "\u001b[?25hRequirement already satisfied: future in /usr/local/lib/python3.8/dist-packages (from uncertainties) (0.16.0)\n",
            "Installing collected packages: uncertainties\n",
            "Successfully installed uncertainties-3.1.7\n"
          ]
        }
      ],
      "source": [
        "pip install uncertainties"
      ]
    },
    {
      "cell_type": "code",
      "source": [
        "pip install astropy\n"
      ],
      "metadata": {
        "colab": {
          "base_uri": "https://localhost:8080/"
        },
        "id": "UV7Im8CnsjS0",
        "outputId": "e243a831-9aa5-458b-8f22-044f0d1c43d8"
      },
      "execution_count": 2,
      "outputs": [
        {
          "output_type": "stream",
          "name": "stdout",
          "text": [
            "Looking in indexes: https://pypi.org/simple, https://us-python.pkg.dev/colab-wheels/public/simple/\n",
            "Requirement already satisfied: astropy in /usr/local/lib/python3.8/dist-packages (4.3.1)\n",
            "Requirement already satisfied: pyerfa>=1.7.3 in /usr/local/lib/python3.8/dist-packages (from astropy) (2.0.0.1)\n",
            "Requirement already satisfied: numpy>=1.17 in /usr/local/lib/python3.8/dist-packages (from astropy) (1.22.4)\n"
          ]
        }
      ]
    },
    {
      "cell_type": "markdown",
      "source": [
        "# Importing the required libraries"
      ],
      "metadata": {
        "id": "b4JPbimpbMio"
      }
    },
    {
      "cell_type": "code",
      "source": [
        "from uncertainties import ufloat"
      ],
      "metadata": {
        "id": "nyRDFKYMWM9Y"
      },
      "execution_count": 3,
      "outputs": []
    },
    {
      "cell_type": "markdown",
      "source": [
        "# Assigning the values to variable, defining the variable"
      ],
      "metadata": {
        "id": "oCY-w61cbTtU"
      }
    },
    {
      "cell_type": "code",
      "source": [
        "parallex_1 = ufloat(22.6753, 0.071)\n"
      ],
      "metadata": {
        "id": "iOSM2SD2WZRK"
      },
      "execution_count": 4,
      "outputs": []
    },
    {
      "cell_type": "code",
      "source": [
        "parallex_1"
      ],
      "metadata": {
        "colab": {
          "base_uri": "https://localhost:8080/"
        },
        "id": "CBZWZqlLWeeO",
        "outputId": "f6ddeb9c-8f99-43d7-e8a2-bafb749f3b40"
      },
      "execution_count": 5,
      "outputs": [
        {
          "output_type": "execute_result",
          "data": {
            "text/plain": [
              "22.6753+/-0.071"
            ]
          },
          "metadata": {},
          "execution_count": 5
        }
      ]
    },
    {
      "cell_type": "code",
      "source": [
        "parallex_2 = ufloat(8.944, 0.0489)\n",
        "parallex_2"
      ],
      "metadata": {
        "colab": {
          "base_uri": "https://localhost:8080/"
        },
        "id": "G-c1eIdFuEqS",
        "outputId": "97a52341-0f07-47d1-be83-ff66b0b0059c"
      },
      "execution_count": 6,
      "outputs": [
        {
          "output_type": "execute_result",
          "data": {
            "text/plain": [
              "8.944+/-0.0489"
            ]
          },
          "metadata": {},
          "execution_count": 6
        }
      ]
    },
    {
      "cell_type": "markdown",
      "source": [
        "# Parallax to Distance"
      ],
      "metadata": {
        "id": "jrA1Zi6BsSCO"
      }
    },
    {
      "cell_type": "code",
      "source": [
        "Distance_1= 1000/parallex_1"
      ],
      "metadata": {
        "id": "_iCKk1B0WgYe"
      },
      "execution_count": 7,
      "outputs": []
    },
    {
      "cell_type": "code",
      "source": [
        "Distance_1"
      ],
      "metadata": {
        "colab": {
          "base_uri": "https://localhost:8080/"
        },
        "id": "HHnc-LlrWsIX",
        "outputId": "29431a74-287f-44f5-dee5-8b724cd85fe4"
      },
      "execution_count": 8,
      "outputs": [
        {
          "output_type": "execute_result",
          "data": {
            "text/plain": [
              "44.100849823376095+/-0.13808683181522194"
            ]
          },
          "metadata": {},
          "execution_count": 8
        }
      ]
    },
    {
      "cell_type": "code",
      "source": [
        "Distance_2= 1000/parallex_2\n",
        "Distance_2"
      ],
      "metadata": {
        "colab": {
          "base_uri": "https://localhost:8080/"
        },
        "id": "iyPIOPDat-Tq",
        "outputId": "f32bf9a8-9778-4a7d-8425-89a8f239391d"
      },
      "execution_count": 9,
      "outputs": [
        {
          "output_type": "execute_result",
          "data": {
            "text/plain": [
              "111.80679785330948+/-0.6112871662597085"
            ]
          },
          "metadata": {},
          "execution_count": 9
        }
      ]
    },
    {
      "cell_type": "markdown",
      "source": [
        "Calculating Abssolute Magnitude"
      ],
      "metadata": {
        "id": "cb2Awh_M6Qiv"
      }
    },
    {
      "cell_type": "code",
      "source": [
        "d_1 = 44.1 \n"
      ],
      "metadata": {
        "id": "SC-9epcQ6iV3"
      },
      "execution_count": 10,
      "outputs": []
    },
    {
      "cell_type": "code",
      "source": [
        "d_2 = 111.8"
      ],
      "metadata": {
        "id": "0lMNH4-p6uJX"
      },
      "execution_count": 11,
      "outputs": []
    },
    {
      "cell_type": "code",
      "source": [
        "d_1, d_2"
      ],
      "metadata": {
        "colab": {
          "base_uri": "https://localhost:8080/"
        },
        "id": "vx0Zy5zj7O5y",
        "outputId": "9e5ba56e-0573-42fc-d079-1b4ef5d3997d"
      },
      "execution_count": 12,
      "outputs": [
        {
          "output_type": "execute_result",
          "data": {
            "text/plain": [
              "(44.1, 111.8)"
            ]
          },
          "metadata": {},
          "execution_count": 12
        }
      ]
    },
    {
      "cell_type": "code",
      "source": [
        "m_1 = 5.68 \n",
        "m_2 = 6.137"
      ],
      "metadata": {
        "id": "3KZERVhX7d3d"
      },
      "execution_count": 13,
      "outputs": []
    },
    {
      "cell_type": "code",
      "source": [
        "import math"
      ],
      "metadata": {
        "id": "-682p_9T8_6u"
      },
      "execution_count": 14,
      "outputs": []
    },
    {
      "cell_type": "code",
      "source": [
        "def M(m, d):\n",
        "  return m-5*(math.log((d/10),10))\n"
      ],
      "metadata": {
        "id": "bVoQoMu-7REL"
      },
      "execution_count": 15,
      "outputs": []
    },
    {
      "cell_type": "code",
      "source": [
        "M_1=M(m_1, d_1)\n",
        "print(\" Absolute Visual Magnitude is of CD-43 12272B\", M_1)"
      ],
      "metadata": {
        "colab": {
          "base_uri": "https://localhost:8080/"
        },
        "id": "e7u3dZHb9Ig0",
        "outputId": "66a17e1e-432c-46b6-fce4-edbf9e4f9c57"
      },
      "execution_count": 16,
      "outputs": [
        {
          "output_type": "stream",
          "name": "stdout",
          "text": [
            " Absolute Visual Magnitude is of CD-43 12272B 2.457807052660807\n"
          ]
        }
      ]
    },
    {
      "cell_type": "code",
      "source": [
        "M_2=M(m_2, d_2)\n",
        "print(\" Absolute Visual Magnitude is of HR1236 star\", M_2)"
      ],
      "metadata": {
        "colab": {
          "base_uri": "https://localhost:8080/"
        },
        "id": "Pws-QadC9Xh9",
        "outputId": "4d18f118-8ad3-4864-aa1a-9720fa3376fa"
      },
      "execution_count": 17,
      "outputs": [
        {
          "output_type": "stream",
          "name": "stdout",
          "text": [
            " Absolute Visual Magnitude is of HR1236 star 0.8947909822479776\n"
          ]
        }
      ]
    },
    {
      "cell_type": "markdown",
      "source": [
        "Spatial velocity of star"
      ],
      "metadata": {
        "id": "WGFNDDWj8ahr"
      }
    },
    {
      "cell_type": "code",
      "source": [
        "import astropy.units as u"
      ],
      "metadata": {
        "id": "lfytoDGx_H30"
      },
      "execution_count": 18,
      "outputs": []
    },
    {
      "cell_type": "code",
      "source": [
        "import math"
      ],
      "metadata": {
        "id": "CL8P-ohcCycR"
      },
      "execution_count": 19,
      "outputs": []
    },
    {
      "cell_type": "code",
      "source": [
        "ra, dec= 66.984, 33.900"
      ],
      "metadata": {
        "id": "p5cfF_GyDAFh"
      },
      "execution_count": 20,
      "outputs": []
    },
    {
      "cell_type": "code",
      "source": [
        "ra_1= ra**2\n",
        "ra_1"
      ],
      "metadata": {
        "colab": {
          "base_uri": "https://localhost:8080/"
        },
        "id": "tEOJTCROGF31",
        "outputId": "e1e136d7-768a-410c-b744-15d0f0439965"
      },
      "execution_count": 21,
      "outputs": [
        {
          "output_type": "execute_result",
          "data": {
            "text/plain": [
              "4486.856255999999"
            ]
          },
          "metadata": {},
          "execution_count": 21
        }
      ]
    },
    {
      "cell_type": "code",
      "source": [
        "dec_1= dec**2\n",
        "dec_1"
      ],
      "metadata": {
        "colab": {
          "base_uri": "https://localhost:8080/"
        },
        "id": "Ecxx7vITJjyu",
        "outputId": "be21a672-2332-45cc-d042-15ca746230d2"
      },
      "execution_count": 22,
      "outputs": [
        {
          "output_type": "execute_result",
          "data": {
            "text/plain": [
              "1149.2099999999998"
            ]
          },
          "metadata": {},
          "execution_count": 22
        }
      ]
    },
    {
      "cell_type": "code",
      "source": [
        "p=math.sqrt(dec_1 + ra_1)\n",
        "p"
      ],
      "metadata": {
        "colab": {
          "base_uri": "https://localhost:8080/"
        },
        "id": "v_vplJWOJrCe",
        "outputId": "9825e92c-c532-4424-b93a-4927915a1fcf"
      },
      "execution_count": 23,
      "outputs": [
        {
          "output_type": "execute_result",
          "data": {
            "text/plain": [
              "75.07373879060506"
            ]
          },
          "metadata": {},
          "execution_count": 23
        }
      ]
    },
    {
      "cell_type": "code",
      "source": [
        "p_1 = p * u.mas/ u.yr\n",
        "p_1"
      ],
      "metadata": {
        "id": "VoV5pQg48nzn",
        "colab": {
          "base_uri": "https://localhost:8080/",
          "height": 40
        },
        "outputId": "e98ef86b-2e25-45a2-fea5-e41480427b4b"
      },
      "execution_count": 24,
      "outputs": [
        {
          "output_type": "execute_result",
          "data": {
            "text/plain": [
              "<Quantity 75.07373879 mas / yr>"
            ],
            "text/latex": "$75.073739 \\; \\mathrm{\\frac{mas}{yr}}$"
          },
          "metadata": {},
          "execution_count": 24
        }
      ]
    },
    {
      "cell_type": "code",
      "source": [
        "p_2 = p_1.to(u.arcsec/u.yr)\n",
        "p_2"
      ],
      "metadata": {
        "colab": {
          "base_uri": "https://localhost:8080/",
          "height": 43
        },
        "id": "WsuUPvQQCLTW",
        "outputId": "04263ba4-3609-416c-e86a-e826f62fa353"
      },
      "execution_count": 25,
      "outputs": [
        {
          "output_type": "execute_result",
          "data": {
            "text/plain": [
              "<Quantity 0.07507374 arcsec / yr>"
            ],
            "text/latex": "$0.075073739 \\; \\mathrm{\\frac{{}^{\\prime\\prime}}{yr}}$"
          },
          "metadata": {},
          "execution_count": 25
        }
      ]
    },
    {
      "cell_type": "code",
      "source": [
        "d = 111.8* u.parsec\n",
        "d"
      ],
      "metadata": {
        "colab": {
          "base_uri": "https://localhost:8080/",
          "height": 37
        },
        "id": "6EQOA2ulCMjl",
        "outputId": "4a218643-231b-42da-9467-c788681ce58e"
      },
      "execution_count": 26,
      "outputs": [
        {
          "output_type": "execute_result",
          "data": {
            "text/plain": [
              "<Quantity 111.8 pc>"
            ],
            "text/latex": "$111.8 \\; \\mathrm{pc}$"
          },
          "metadata": {},
          "execution_count": 26
        }
      ]
    },
    {
      "cell_type": "code",
      "source": [
        "v_t = 4.74 * p_2*d\n",
        "v_t"
      ],
      "metadata": {
        "colab": {
          "base_uri": "https://localhost:8080/",
          "height": 44
        },
        "id": "SBPLmYO-HJmv",
        "outputId": "4df565d1-49d3-4599-eb63-108b6b91cf00"
      },
      "execution_count": 27,
      "outputs": [
        {
          "output_type": "execute_result",
          "data": {
            "text/plain": [
              "<Quantity 39.78397654 arcsec pc / yr>"
            ],
            "text/latex": "$39.783977 \\; \\mathrm{\\frac{{}^{\\prime\\prime}\\,pc}{yr}}$"
          },
          "metadata": {},
          "execution_count": 27
        }
      ]
    },
    {
      "cell_type": "code",
      "source": [
        "4.74 *39.7839 *111.8"
      ],
      "metadata": {
        "colab": {
          "base_uri": "https://localhost:8080/"
        },
        "id": "URGpfZrsHcra",
        "outputId": "02b68ffc-8274-46b1-e2f3-932b4ab264d6"
      },
      "execution_count": 28,
      "outputs": [
        {
          "output_type": "execute_result",
          "data": {
            "text/plain": [
              "21082.761694800003"
            ]
          },
          "metadata": {},
          "execution_count": 28
        }
      ]
    },
    {
      "cell_type": "code",
      "source": [
        "y= (21082.7**2) +(9.81**2)"
      ],
      "metadata": {
        "id": "H08PE16eII0_"
      },
      "execution_count": 29,
      "outputs": []
    },
    {
      "cell_type": "code",
      "source": [
        "math.sqrt(y)"
      ],
      "metadata": {
        "colab": {
          "base_uri": "https://localhost:8080/"
        },
        "id": "nFuFgg_4Kuvx",
        "outputId": "a9129a3a-f744-456d-c685-27ecbf61b636"
      },
      "execution_count": 30,
      "outputs": [
        {
          "output_type": "execute_result",
          "data": {
            "text/plain": [
              "21082.70228234749"
            ]
          },
          "metadata": {},
          "execution_count": 30
        }
      ]
    },
    {
      "cell_type": "code",
      "source": [],
      "metadata": {
        "id": "HhNSeJK4KzJT"
      },
      "execution_count": null,
      "outputs": []
    }
  ]
}